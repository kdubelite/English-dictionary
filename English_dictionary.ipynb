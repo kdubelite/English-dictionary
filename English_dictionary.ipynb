{
 "cells": [
  {
   "cell_type": "code",
   "execution_count": 6,
   "id": "0a220f7b",
   "metadata": {},
   "outputs": [
    {
     "name": "stdout",
     "output_type": "stream",
     "text": [
      "Enter word: Rain\n",
      "Precipitation in the form of liquid water drops with diameters greater than 0.5 millimetres.\n",
      "To fall from the clouds in drops of water.\n"
     ]
    }
   ],
   "source": [
    "import json\n",
    "from difflib import get_close_matches\n",
    "\n",
    "data = json.load(open(\"data.json\"))\n",
    "\n",
    "\n",
    "def translate(word):\n",
    "    word = word.lower()\n",
    "    if word in data:\n",
    "        return data[word]\n",
    "    elif w.title() in data:\n",
    "        return data[w.title()]\n",
    "    elif w.upper() in data: \n",
    "        return data[w.upper()]\n",
    "    elif len(get_close_matches(word, data.keys())) > 0:\n",
    "        yn = input(\"Did you mean %s instead? Enter Y if yes, N for no: \" % get_close_matches(word, data.key())[0])\n",
    "        if yn == 'Y':\n",
    "            return data[get_close_matches(word, data.key())[0]]\n",
    "        elif yn == 'N':\n",
    "            return \"The word doesn't exist. Please doublecheck it\"\n",
    "        else:\n",
    "            return \"We didn't understand your entry\"\n",
    "    else:\n",
    "        return \"The word doesn't exist\"\n",
    "    \n",
    "    \n",
    "word = input('Enter word: ')\n",
    "\n",
    "output = translate(word)\n",
    "\n",
    "if type(output) == list:\n",
    "    for item in output:\n",
    "        print(item)"
   ]
  },
  {
   "cell_type": "code",
   "execution_count": null,
   "id": "7b5b940a",
   "metadata": {},
   "outputs": [],
   "source": []
  }
 ],
 "metadata": {
  "kernelspec": {
   "display_name": "Python 3",
   "language": "python",
   "name": "python3"
  },
  "language_info": {
   "codemirror_mode": {
    "name": "ipython",
    "version": 3
   },
   "file_extension": ".py",
   "mimetype": "text/x-python",
   "name": "python",
   "nbconvert_exporter": "python",
   "pygments_lexer": "ipython3",
   "version": "3.8.8"
  }
 },
 "nbformat": 4,
 "nbformat_minor": 5
}
